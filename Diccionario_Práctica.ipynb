{
  "nbformat": 4,
  "nbformat_minor": 0,
  "metadata": {
    "colab": {
      "provenance": [],
      "authorship_tag": "ABX9TyMF6T43zhLFyLubxPipt4eK",
      "include_colab_link": true
    },
    "kernelspec": {
      "name": "python3",
      "display_name": "Python 3"
    },
    "language_info": {
      "name": "python"
    }
  },
  "cells": [
    {
      "cell_type": "markdown",
      "metadata": {
        "id": "view-in-github",
        "colab_type": "text"
      },
      "source": [
        "<a href=\"https://colab.research.google.com/github/frescoh/tps-pii-colab/blob/5C/Diccionario_Pr%C3%A1ctica.ipynb\" target=\"_parent\"><img src=\"https://colab.research.google.com/assets/colab-badge.svg\" alt=\"Open In Colab\"/></a>"
      ]
    },
    {
      "cell_type": "code",
      "execution_count": 1,
      "metadata": {
        "id": "8VOD-zpMJovw"
      },
      "outputs": [],
      "source": [
        "# Listas de alumnos\n",
        "estudiantes_5d = [\n",
        "   (\"Alurralde, Solange Stefania\",\"D\",\"02/04/2007\"),\n",
        "   (\"Alvarado, Ludmila Del Milagro\",\"D\",\"06/09/2006\"),\n",
        "   (\"Angel, Camila Juliana\",\"D\",\"07/03/2007\"),\n",
        "   (\"Arenas, Lucas Gabriel\",\"D\",\"26/06/2007\"),\n",
        "   (\"Caseres, Maria Antonia\",\"D\",\"01/07/2006\"),\n",
        "   (\"Castillo, Paulina Milagros\",\"D\",\"01/06/2007\"),\n",
        "   (\"Correa Segovia, Hugo Mariano\",\"D\",\"04/12/2006\"),\n",
        "   (\"D Elia, Alvaro Tadeo\",\"D\",\"27/08/2006\"),\n",
        "   (\"Flores, Victoria Agustina\",\"D\",\"12/12/2006\"),\n",
        "   (\"Geronimo Soriano, Lizzie Amaya\",\"D\",\"20/01/2007\"),\n",
        "   (\"GUZMAN, ANGÉLICA MORENA\",\"D\",\"11/04/2007\"),\n",
        "   (\"Guzman, Jazmin Esmeralda Belen\",\"D\",\"31/07/2006\"),\n",
        "   (\"Jaime, Anita Maria Belen\",\"D\",\"19/04/2007\"),\n",
        "   (\"Lacour Polo, Nazarena\",\"D\",\"19/12/2005\"),\n",
        "   (\"Lascano Guanca, Marcelo Fabricio\",\"D\",\"17/02/2006\"),\n",
        "   (\"Lezcano, Celia Morena\",\"D\",\"01/07/2005\"),\n",
        "   (\"Martinez, Tomas Andres\",\"D\",\"22/03/2007\"),\n",
        "   (\"PORTELLA VALDIVIA, PEDRO FRANCISCO\",\"D\",\"24/01/2007\"),\n",
        "   (\"Retamal Cisneros, Zacarias Josue\",\"D\",\"24/02/2007\"),\n",
        "   (\"Rosales, Francisco Gabriel\",\"D\",\"14/11/2006\"),\n",
        "   (\"Salem Barba, Mahia\",\"D\",\"14/10/2005\"),\n",
        "   (\"Soto Camara, Agustin Ignacio\",\"D\",\"07/11/2005\"),\n",
        "   (\"Villalba, Irina\",\"D\",\"09/09/2006\"),\n",
        "   (\"Voltolini, Emanuel Tobias\",\"D\",\"17/09/2006\"),\n",
        "   (\"Zalazar, Santino Stefano\",\"D\",\"30/09/2006\")\n",
        "]\n",
        "\n",
        "estudiantes_5c=[\n",
        "    (\"ABUD LASPIUR, LOURDES MARIEL\",\"C\",\"05/12/2006\"),\n",
        "    (\"Amador, Luana Micaela\",\"C\",\"09/12/2006\"),\n",
        "    (\"Anaquin, Leonardo Ezequiel\",\"C\",\"06/09/2005\"),\n",
        "    (\"Araoz Sanchez, Lautaro Nahuel\",\"C\",\"28/12/2005\"),\n",
        "    (\"Argañaraz, Agostina Abril\",\"C\",\"11/10/2006\"),\n",
        "    (\"Barrera, Matias Ezequiel\",\"C\",\"27/02/2007\"),\n",
        "    (\"Barrozo Vedia, Joaquin Nicolas\",\"C\",\"15/04/2006\"),\n",
        "    (\"Bettinelli, Valentino\",\"C\",\"12/07/2006\"),\n",
        "    (\"Bracamonte Martinez, Salvador\",\"C\",\"02/11/2005\"),\n",
        "    (\"Colque Rivero, Ariana Zoe Del Valle\",\"C\",\"27/12/2006\"),\n",
        "    (\"Diaz, Dulce Maitena\",\"C\",\"11/12/2006\"),\n",
        "    (\"FIGUEROA, SANTINO JOSUE\",\"C\",\"12/05/2007\"),\n",
        "    (\"Flores Cardozo, Agustina Tiara\",\"C\",\"18/03/2006\"),\n",
        "    (\"Gallo, Octavio Ismael\",\"C\",\"04/08/2006\"),\n",
        "    (\"Galvan, Lourdes Yamila\",\"C\",\"19/08/2005\"),\n",
        "    (\"Giangreco, Vitto Tomasso\",\"C\",\"21/03/2007\"),\n",
        "    (\"Grancara, Martina Luna\",\"C\",\"15/12/2006\"),\n",
        "    (\"Guanca, Sara Elizabeth\",\"C\",\"17/01/2007\"),\n",
        "    (\"Lopez, Victoria Constanza\",\"C\",\"12/11/2007\"),\n",
        "    (\"Mamani Garrido, Rosario Agostina\",\"C\",\"24/10/2006\"),\n",
        "    (\"Marinaro, Martin Ezequiel\",\"C\",\"03/11/2006\"),\n",
        "    (\"Merluzzi Dagum, Ignacio\",\"C\",\"22/12/2005\"),\n",
        "    (\"Messina, Martina\",\"C\",\"13/07/2005\"),\n",
        "    (\"RASUK, KARIM\", \"C\",\"13/07/2007\"),\n",
        "    (\"Rios, Lucia Magali\",\"C\",\"22/09/2006\"),\n",
        "    (\"Sanchez Flores, Matías Agustín\",\"C\",\"15/02/2007\"),\n",
        "    (\"Scarano, Renato Marcelo\",\"C\",\"06/12/2006\"),\n",
        "    (\"Sierra, Lucas Mauricio\",\"C\",\"03/04/2005\"),\n",
        "    (\"Tapia, Martin Gabriel\",\"C\",\"30/05/2006\"),\n",
        "    (\"Vilte, Mia Antonella Alondra\",\"C\",\"10/09/2005\"),\n",
        "    (\"Virgillito, Katya Milena\",\"C\",\"19/06/2007\")\n",
        "]"
      ]
    },
    {
      "cell_type": "markdown",
      "source": [
        "## Dada la lista estudiantes:\n",
        "> - Hacer una celda para resolver cada punto.\n",
        "- El TP resuelto será revisado en tu repositorio, no es necesario que lo envíes, pero sí que lo pushees correctamente.\n",
        "- En la nota inicial se contempla:\n",
        "  - La incorporación de este documento a tu propio respositorio.\n",
        "  - El pusheo de los cambios realizados.\n",
        "  - La resolución de los ejercicios propuestos.\n"
      ],
      "metadata": {
        "id": "rd6Ug6v3J4uN"
      }
    },
    {
      "cell_type": "markdown",
      "source": [
        "1. Reemplaza todos los valores del nombre por los que obtengas del método title(). De esta manera las listas quedaran con los datos más homogéneos."
      ],
      "metadata": {
        "id": "wRLng-uURyJ3"
      }
    },
    {
      "cell_type": "code",
      "source": [
        "estudiantes = []\n",
        "for i in range(len(estudiantes_5c)):\n",
        "  nombre, divi, fecha_nac= estudiantes_5c[i]\n",
        "  estudiantes.append((nombre.title(),divi,fecha_nac))\n",
        "\n",
        "for i in range(len(estudiantes_5d)):\n",
        "  nombre, divi, fecha_nac= estudiantes_5d[i]\n",
        "  estudiantes.append((nombre.title(),divi,fecha_nac))\n",
        "\n",
        "for estudiante in estudiantes:\n",
        "  print(estudiante)"
      ],
      "metadata": {
        "id": "5lFqJoTaSIWi",
        "outputId": "1d7198a0-f882-4579-e32d-4df41f95f40a",
        "colab": {
          "base_uri": "https://localhost:8080/"
        }
      },
      "execution_count": 2,
      "outputs": [
        {
          "output_type": "stream",
          "name": "stdout",
          "text": [
            "('Abud Laspiur, Lourdes Mariel', 'C', '05/12/2006')\n",
            "('Amador, Luana Micaela', 'C', '09/12/2006')\n",
            "('Anaquin, Leonardo Ezequiel', 'C', '06/09/2005')\n",
            "('Araoz Sanchez, Lautaro Nahuel', 'C', '28/12/2005')\n",
            "('Argañaraz, Agostina Abril', 'C', '11/10/2006')\n",
            "('Barrera, Matias Ezequiel', 'C', '27/02/2007')\n",
            "('Barrozo Vedia, Joaquin Nicolas', 'C', '15/04/2006')\n",
            "('Bettinelli, Valentino', 'C', '12/07/2006')\n",
            "('Bracamonte Martinez, Salvador', 'C', '02/11/2005')\n",
            "('Colque Rivero, Ariana Zoe Del Valle', 'C', '27/12/2006')\n",
            "('Diaz, Dulce Maitena', 'C', '11/12/2006')\n",
            "('Figueroa, Santino Josue', 'C', '12/05/2007')\n",
            "('Flores Cardozo, Agustina Tiara', 'C', '18/03/2006')\n",
            "('Gallo, Octavio Ismael', 'C', '04/08/2006')\n",
            "('Galvan, Lourdes Yamila', 'C', '19/08/2005')\n",
            "('Giangreco, Vitto Tomasso', 'C', '21/03/2007')\n",
            "('Grancara, Martina Luna', 'C', '15/12/2006')\n",
            "('Guanca, Sara Elizabeth', 'C', '17/01/2007')\n",
            "('Lopez, Victoria Constanza', 'C', '12/11/2007')\n",
            "('Mamani Garrido, Rosario Agostina', 'C', '24/10/2006')\n",
            "('Marinaro, Martin Ezequiel', 'C', '03/11/2006')\n",
            "('Merluzzi Dagum, Ignacio', 'C', '22/12/2005')\n",
            "('Messina, Martina', 'C', '13/07/2005')\n",
            "('Rasuk, Karim', 'C', '13/07/2007')\n",
            "('Rios, Lucia Magali', 'C', '22/09/2006')\n",
            "('Sanchez Flores, Matías Agustín', 'C', '15/02/2007')\n",
            "('Scarano, Renato Marcelo', 'C', '06/12/2006')\n",
            "('Sierra, Lucas Mauricio', 'C', '03/04/2005')\n",
            "('Tapia, Martin Gabriel', 'C', '30/05/2006')\n",
            "('Vilte, Mia Antonella Alondra', 'C', '10/09/2005')\n",
            "('Virgillito, Katya Milena', 'C', '19/06/2007')\n",
            "('Alurralde, Solange Stefania', 'D', '02/04/2007')\n",
            "('Alvarado, Ludmila Del Milagro', 'D', '06/09/2006')\n",
            "('Angel, Camila Juliana', 'D', '07/03/2007')\n",
            "('Arenas, Lucas Gabriel', 'D', '26/06/2007')\n",
            "('Caseres, Maria Antonia', 'D', '01/07/2006')\n",
            "('Castillo, Paulina Milagros', 'D', '01/06/2007')\n",
            "('Correa Segovia, Hugo Mariano', 'D', '04/12/2006')\n",
            "('D Elia, Alvaro Tadeo', 'D', '27/08/2006')\n",
            "('Flores, Victoria Agustina', 'D', '12/12/2006')\n",
            "('Geronimo Soriano, Lizzie Amaya', 'D', '20/01/2007')\n",
            "('Guzman, Angélica Morena', 'D', '11/04/2007')\n",
            "('Guzman, Jazmin Esmeralda Belen', 'D', '31/07/2006')\n",
            "('Jaime, Anita Maria Belen', 'D', '19/04/2007')\n",
            "('Lacour Polo, Nazarena', 'D', '19/12/2005')\n",
            "('Lascano Guanca, Marcelo Fabricio', 'D', '17/02/2006')\n",
            "('Lezcano, Celia Morena', 'D', '01/07/2005')\n",
            "('Martinez, Tomas Andres', 'D', '22/03/2007')\n",
            "('Portella Valdivia, Pedro Francisco', 'D', '24/01/2007')\n",
            "('Retamal Cisneros, Zacarias Josue', 'D', '24/02/2007')\n",
            "('Rosales, Francisco Gabriel', 'D', '14/11/2006')\n",
            "('Salem Barba, Mahia', 'D', '14/10/2005')\n",
            "('Soto Camara, Agustin Ignacio', 'D', '07/11/2005')\n",
            "('Villalba, Irina', 'D', '09/09/2006')\n",
            "('Voltolini, Emanuel Tobias', 'D', '17/09/2006')\n",
            "('Zalazar, Santino Stefano', 'D', '30/09/2006')\n"
          ]
        }
      ]
    },
    {
      "cell_type": "markdown",
      "source": [
        "2. Genera una lista de diccionarios con los datos de las listas, donde las claves de los mismos serán:\n",
        "- \"apellido\"\n",
        "- \"nombre\"\n",
        "- \"curso\"\n",
        "- \"division\"\n",
        "- \"feha_de_nacimiento\"\n",
        "\n",
        "Muestra la información generada."
      ],
      "metadata": {
        "id": "dYEGkYZyLy9I"
      }
    },
    {
      "cell_type": "code",
      "source": [
        "lista_dict= []\n",
        "for estudiante in estudiantes:\n",
        "  nombre_completo,division,fecha_nacimiento = estudiante\n",
        "  apellido,nombre  =  nombre_completo.split(\",\")\n",
        "  nombre = nombre.strip()\n",
        "  diccionario= {}\n",
        "  diccionario[\"nombre\"] = nombre\n",
        "  diccionario[\"apellido\"] = apellido\n",
        "  diccionario[\"division\"] = division\n",
        "  diccionario[\"curso\"] = 5\n",
        "  diccionario[\"fecha_nacimiento\"] = fecha_nacimiento\n",
        "  lista_dict.append(diccionario)\n",
        "\n",
        "for estudiante in lista_dict:\n",
        "  print(estudiante)"
      ],
      "metadata": {
        "id": "S6BLyOPAQHEj",
        "outputId": "7c4e9189-f9b3-49c6-b66f-7c9e65b8fac9",
        "colab": {
          "base_uri": "https://localhost:8080/"
        }
      },
      "execution_count": 3,
      "outputs": [
        {
          "output_type": "stream",
          "name": "stdout",
          "text": [
            "{'nombre': 'Lourdes Mariel', 'apellido': 'Abud Laspiur', 'division': 'C', 'curso': 5, 'fecha_nacimiento': '05/12/2006'}\n",
            "{'nombre': 'Luana Micaela', 'apellido': 'Amador', 'division': 'C', 'curso': 5, 'fecha_nacimiento': '09/12/2006'}\n",
            "{'nombre': 'Leonardo Ezequiel', 'apellido': 'Anaquin', 'division': 'C', 'curso': 5, 'fecha_nacimiento': '06/09/2005'}\n",
            "{'nombre': 'Lautaro Nahuel', 'apellido': 'Araoz Sanchez', 'division': 'C', 'curso': 5, 'fecha_nacimiento': '28/12/2005'}\n",
            "{'nombre': 'Agostina Abril', 'apellido': 'Argañaraz', 'division': 'C', 'curso': 5, 'fecha_nacimiento': '11/10/2006'}\n",
            "{'nombre': 'Matias Ezequiel', 'apellido': 'Barrera', 'division': 'C', 'curso': 5, 'fecha_nacimiento': '27/02/2007'}\n",
            "{'nombre': 'Joaquin Nicolas', 'apellido': 'Barrozo Vedia', 'division': 'C', 'curso': 5, 'fecha_nacimiento': '15/04/2006'}\n",
            "{'nombre': 'Valentino', 'apellido': 'Bettinelli', 'division': 'C', 'curso': 5, 'fecha_nacimiento': '12/07/2006'}\n",
            "{'nombre': 'Salvador', 'apellido': 'Bracamonte Martinez', 'division': 'C', 'curso': 5, 'fecha_nacimiento': '02/11/2005'}\n",
            "{'nombre': 'Ariana Zoe Del Valle', 'apellido': 'Colque Rivero', 'division': 'C', 'curso': 5, 'fecha_nacimiento': '27/12/2006'}\n",
            "{'nombre': 'Dulce Maitena', 'apellido': 'Diaz', 'division': 'C', 'curso': 5, 'fecha_nacimiento': '11/12/2006'}\n",
            "{'nombre': 'Santino Josue', 'apellido': 'Figueroa', 'division': 'C', 'curso': 5, 'fecha_nacimiento': '12/05/2007'}\n",
            "{'nombre': 'Agustina Tiara', 'apellido': 'Flores Cardozo', 'division': 'C', 'curso': 5, 'fecha_nacimiento': '18/03/2006'}\n",
            "{'nombre': 'Octavio Ismael', 'apellido': 'Gallo', 'division': 'C', 'curso': 5, 'fecha_nacimiento': '04/08/2006'}\n",
            "{'nombre': 'Lourdes Yamila', 'apellido': 'Galvan', 'division': 'C', 'curso': 5, 'fecha_nacimiento': '19/08/2005'}\n",
            "{'nombre': 'Vitto Tomasso', 'apellido': 'Giangreco', 'division': 'C', 'curso': 5, 'fecha_nacimiento': '21/03/2007'}\n",
            "{'nombre': 'Martina Luna', 'apellido': 'Grancara', 'division': 'C', 'curso': 5, 'fecha_nacimiento': '15/12/2006'}\n",
            "{'nombre': 'Sara Elizabeth', 'apellido': 'Guanca', 'division': 'C', 'curso': 5, 'fecha_nacimiento': '17/01/2007'}\n",
            "{'nombre': 'Victoria Constanza', 'apellido': 'Lopez', 'division': 'C', 'curso': 5, 'fecha_nacimiento': '12/11/2007'}\n",
            "{'nombre': 'Rosario Agostina', 'apellido': 'Mamani Garrido', 'division': 'C', 'curso': 5, 'fecha_nacimiento': '24/10/2006'}\n",
            "{'nombre': 'Martin Ezequiel', 'apellido': 'Marinaro', 'division': 'C', 'curso': 5, 'fecha_nacimiento': '03/11/2006'}\n",
            "{'nombre': 'Ignacio', 'apellido': 'Merluzzi Dagum', 'division': 'C', 'curso': 5, 'fecha_nacimiento': '22/12/2005'}\n",
            "{'nombre': 'Martina', 'apellido': 'Messina', 'division': 'C', 'curso': 5, 'fecha_nacimiento': '13/07/2005'}\n",
            "{'nombre': 'Karim', 'apellido': 'Rasuk', 'division': 'C', 'curso': 5, 'fecha_nacimiento': '13/07/2007'}\n",
            "{'nombre': 'Lucia Magali', 'apellido': 'Rios', 'division': 'C', 'curso': 5, 'fecha_nacimiento': '22/09/2006'}\n",
            "{'nombre': 'Matías Agustín', 'apellido': 'Sanchez Flores', 'division': 'C', 'curso': 5, 'fecha_nacimiento': '15/02/2007'}\n",
            "{'nombre': 'Renato Marcelo', 'apellido': 'Scarano', 'division': 'C', 'curso': 5, 'fecha_nacimiento': '06/12/2006'}\n",
            "{'nombre': 'Lucas Mauricio', 'apellido': 'Sierra', 'division': 'C', 'curso': 5, 'fecha_nacimiento': '03/04/2005'}\n",
            "{'nombre': 'Martin Gabriel', 'apellido': 'Tapia', 'division': 'C', 'curso': 5, 'fecha_nacimiento': '30/05/2006'}\n",
            "{'nombre': 'Mia Antonella Alondra', 'apellido': 'Vilte', 'division': 'C', 'curso': 5, 'fecha_nacimiento': '10/09/2005'}\n",
            "{'nombre': 'Katya Milena', 'apellido': 'Virgillito', 'division': 'C', 'curso': 5, 'fecha_nacimiento': '19/06/2007'}\n",
            "{'nombre': 'Solange Stefania', 'apellido': 'Alurralde', 'division': 'D', 'curso': 5, 'fecha_nacimiento': '02/04/2007'}\n",
            "{'nombre': 'Ludmila Del Milagro', 'apellido': 'Alvarado', 'division': 'D', 'curso': 5, 'fecha_nacimiento': '06/09/2006'}\n",
            "{'nombre': 'Camila Juliana', 'apellido': 'Angel', 'division': 'D', 'curso': 5, 'fecha_nacimiento': '07/03/2007'}\n",
            "{'nombre': 'Lucas Gabriel', 'apellido': 'Arenas', 'division': 'D', 'curso': 5, 'fecha_nacimiento': '26/06/2007'}\n",
            "{'nombre': 'Maria Antonia', 'apellido': 'Caseres', 'division': 'D', 'curso': 5, 'fecha_nacimiento': '01/07/2006'}\n",
            "{'nombre': 'Paulina Milagros', 'apellido': 'Castillo', 'division': 'D', 'curso': 5, 'fecha_nacimiento': '01/06/2007'}\n",
            "{'nombre': 'Hugo Mariano', 'apellido': 'Correa Segovia', 'division': 'D', 'curso': 5, 'fecha_nacimiento': '04/12/2006'}\n",
            "{'nombre': 'Alvaro Tadeo', 'apellido': 'D Elia', 'division': 'D', 'curso': 5, 'fecha_nacimiento': '27/08/2006'}\n",
            "{'nombre': 'Victoria Agustina', 'apellido': 'Flores', 'division': 'D', 'curso': 5, 'fecha_nacimiento': '12/12/2006'}\n",
            "{'nombre': 'Lizzie Amaya', 'apellido': 'Geronimo Soriano', 'division': 'D', 'curso': 5, 'fecha_nacimiento': '20/01/2007'}\n",
            "{'nombre': 'Angélica Morena', 'apellido': 'Guzman', 'division': 'D', 'curso': 5, 'fecha_nacimiento': '11/04/2007'}\n",
            "{'nombre': 'Jazmin Esmeralda Belen', 'apellido': 'Guzman', 'division': 'D', 'curso': 5, 'fecha_nacimiento': '31/07/2006'}\n",
            "{'nombre': 'Anita Maria Belen', 'apellido': 'Jaime', 'division': 'D', 'curso': 5, 'fecha_nacimiento': '19/04/2007'}\n",
            "{'nombre': 'Nazarena', 'apellido': 'Lacour Polo', 'division': 'D', 'curso': 5, 'fecha_nacimiento': '19/12/2005'}\n",
            "{'nombre': 'Marcelo Fabricio', 'apellido': 'Lascano Guanca', 'division': 'D', 'curso': 5, 'fecha_nacimiento': '17/02/2006'}\n",
            "{'nombre': 'Celia Morena', 'apellido': 'Lezcano', 'division': 'D', 'curso': 5, 'fecha_nacimiento': '01/07/2005'}\n",
            "{'nombre': 'Tomas Andres', 'apellido': 'Martinez', 'division': 'D', 'curso': 5, 'fecha_nacimiento': '22/03/2007'}\n",
            "{'nombre': 'Pedro Francisco', 'apellido': 'Portella Valdivia', 'division': 'D', 'curso': 5, 'fecha_nacimiento': '24/01/2007'}\n",
            "{'nombre': 'Zacarias Josue', 'apellido': 'Retamal Cisneros', 'division': 'D', 'curso': 5, 'fecha_nacimiento': '24/02/2007'}\n",
            "{'nombre': 'Francisco Gabriel', 'apellido': 'Rosales', 'division': 'D', 'curso': 5, 'fecha_nacimiento': '14/11/2006'}\n",
            "{'nombre': 'Mahia', 'apellido': 'Salem Barba', 'division': 'D', 'curso': 5, 'fecha_nacimiento': '14/10/2005'}\n",
            "{'nombre': 'Agustin Ignacio', 'apellido': 'Soto Camara', 'division': 'D', 'curso': 5, 'fecha_nacimiento': '07/11/2005'}\n",
            "{'nombre': 'Irina', 'apellido': 'Villalba', 'division': 'D', 'curso': 5, 'fecha_nacimiento': '09/09/2006'}\n",
            "{'nombre': 'Emanuel Tobias', 'apellido': 'Voltolini', 'division': 'D', 'curso': 5, 'fecha_nacimiento': '17/09/2006'}\n",
            "{'nombre': 'Santino Stefano', 'apellido': 'Zalazar', 'division': 'D', 'curso': 5, 'fecha_nacimiento': '30/09/2006'}\n"
          ]
        }
      ]
    },
    {
      "cell_type": "markdown",
      "source": [
        "3. Genera un diccionario en python, en donde la clave sea cada nombre que aparece en las listas y el valor será la cantidad de veces que se encuentra el mismo.\n",
        "Para este punto es posible fusionar ambas listas en una sola, recordá que hay un método que realiza esta acción.\n",
        "\n",
        "Mostrá la informacion generada"
      ],
      "metadata": {
        "id": "UW2dlBsGMAte"
      }
    },
    {
      "cell_type": "code",
      "source": [
        "lista_nombres = []\n",
        "for estudiante in estudiantes:\n",
        "  nombre_completo = estudiante[0].replace(\",\",\"\").split()\n",
        "  lista_nombres.extend(nombre_completo)\n",
        "\n",
        "ocurrencias_nombres= {}\n",
        "for nombre in lista_nombres:\n",
        "  if nombre in ocurrencias_nombres.keys():\n",
        "    ocurrencias_nombres[nombre] += 1\n",
        "  else:\n",
        "    ocurrencias_nombres[nombre] = 1\n",
        "\n",
        "for nombre,ocurrencia in ocurrencias_nombres.items():\n",
        "  print(f\"El nombre {nombre} apareció {ocurrencia} veces\")"
      ],
      "metadata": {
        "id": "EawAy4SANtkl",
        "outputId": "ffbd5900-fc98-4ac2-a64b-665dad590b05",
        "colab": {
          "base_uri": "https://localhost:8080/"
        }
      },
      "execution_count": 4,
      "outputs": [
        {
          "output_type": "stream",
          "name": "stdout",
          "text": [
            "El nombre Abud apareció 1 veces\n",
            "El nombre Laspiur apareció 1 veces\n",
            "El nombre Lourdes apareció 2 veces\n",
            "El nombre Mariel apareció 1 veces\n",
            "El nombre Amador apareció 1 veces\n",
            "El nombre Luana apareció 1 veces\n",
            "El nombre Micaela apareció 1 veces\n",
            "El nombre Anaquin apareció 1 veces\n",
            "El nombre Leonardo apareció 1 veces\n",
            "El nombre Ezequiel apareció 3 veces\n",
            "El nombre Araoz apareció 1 veces\n",
            "El nombre Sanchez apareció 2 veces\n",
            "El nombre Lautaro apareció 1 veces\n",
            "El nombre Nahuel apareció 1 veces\n",
            "El nombre Argañaraz apareció 1 veces\n",
            "El nombre Agostina apareció 2 veces\n",
            "El nombre Abril apareció 1 veces\n",
            "El nombre Barrera apareció 1 veces\n",
            "El nombre Matias apareció 1 veces\n",
            "El nombre Barrozo apareció 1 veces\n",
            "El nombre Vedia apareció 1 veces\n",
            "El nombre Joaquin apareció 1 veces\n",
            "El nombre Nicolas apareció 1 veces\n",
            "El nombre Bettinelli apareció 1 veces\n",
            "El nombre Valentino apareció 1 veces\n",
            "El nombre Bracamonte apareció 1 veces\n",
            "El nombre Martinez apareció 2 veces\n",
            "El nombre Salvador apareció 1 veces\n",
            "El nombre Colque apareció 1 veces\n",
            "El nombre Rivero apareció 1 veces\n",
            "El nombre Ariana apareció 1 veces\n",
            "El nombre Zoe apareció 1 veces\n",
            "El nombre Del apareció 2 veces\n",
            "El nombre Valle apareció 1 veces\n",
            "El nombre Diaz apareció 1 veces\n",
            "El nombre Dulce apareció 1 veces\n",
            "El nombre Maitena apareció 1 veces\n",
            "El nombre Figueroa apareció 1 veces\n",
            "El nombre Santino apareció 2 veces\n",
            "El nombre Josue apareció 2 veces\n",
            "El nombre Flores apareció 3 veces\n",
            "El nombre Cardozo apareció 1 veces\n",
            "El nombre Agustina apareció 2 veces\n",
            "El nombre Tiara apareció 1 veces\n",
            "El nombre Gallo apareció 1 veces\n",
            "El nombre Octavio apareció 1 veces\n",
            "El nombre Ismael apareció 1 veces\n",
            "El nombre Galvan apareció 1 veces\n",
            "El nombre Yamila apareció 1 veces\n",
            "El nombre Giangreco apareció 1 veces\n",
            "El nombre Vitto apareció 1 veces\n",
            "El nombre Tomasso apareció 1 veces\n",
            "El nombre Grancara apareció 1 veces\n",
            "El nombre Martina apareció 2 veces\n",
            "El nombre Luna apareció 1 veces\n",
            "El nombre Guanca apareció 2 veces\n",
            "El nombre Sara apareció 1 veces\n",
            "El nombre Elizabeth apareció 1 veces\n",
            "El nombre Lopez apareció 1 veces\n",
            "El nombre Victoria apareció 2 veces\n",
            "El nombre Constanza apareció 1 veces\n",
            "El nombre Mamani apareció 1 veces\n",
            "El nombre Garrido apareció 1 veces\n",
            "El nombre Rosario apareció 1 veces\n",
            "El nombre Marinaro apareció 1 veces\n",
            "El nombre Martin apareció 2 veces\n",
            "El nombre Merluzzi apareció 1 veces\n",
            "El nombre Dagum apareció 1 veces\n",
            "El nombre Ignacio apareció 2 veces\n",
            "El nombre Messina apareció 1 veces\n",
            "El nombre Rasuk apareció 1 veces\n",
            "El nombre Karim apareció 1 veces\n",
            "El nombre Rios apareció 1 veces\n",
            "El nombre Lucia apareció 1 veces\n",
            "El nombre Magali apareció 1 veces\n",
            "El nombre Matías apareció 1 veces\n",
            "El nombre Agustín apareció 1 veces\n",
            "El nombre Scarano apareció 1 veces\n",
            "El nombre Renato apareció 1 veces\n",
            "El nombre Marcelo apareció 2 veces\n",
            "El nombre Sierra apareció 1 veces\n",
            "El nombre Lucas apareció 2 veces\n",
            "El nombre Mauricio apareció 1 veces\n",
            "El nombre Tapia apareció 1 veces\n",
            "El nombre Gabriel apareció 3 veces\n",
            "El nombre Vilte apareció 1 veces\n",
            "El nombre Mia apareció 1 veces\n",
            "El nombre Antonella apareció 1 veces\n",
            "El nombre Alondra apareció 1 veces\n",
            "El nombre Virgillito apareció 1 veces\n",
            "El nombre Katya apareció 1 veces\n",
            "El nombre Milena apareció 1 veces\n",
            "El nombre Alurralde apareció 1 veces\n",
            "El nombre Solange apareció 1 veces\n",
            "El nombre Stefania apareció 1 veces\n",
            "El nombre Alvarado apareció 1 veces\n",
            "El nombre Ludmila apareció 1 veces\n",
            "El nombre Milagro apareció 1 veces\n",
            "El nombre Angel apareció 1 veces\n",
            "El nombre Camila apareció 1 veces\n",
            "El nombre Juliana apareció 1 veces\n",
            "El nombre Arenas apareció 1 veces\n",
            "El nombre Caseres apareció 1 veces\n",
            "El nombre Maria apareció 2 veces\n",
            "El nombre Antonia apareció 1 veces\n",
            "El nombre Castillo apareció 1 veces\n",
            "El nombre Paulina apareció 1 veces\n",
            "El nombre Milagros apareció 1 veces\n",
            "El nombre Correa apareció 1 veces\n",
            "El nombre Segovia apareció 1 veces\n",
            "El nombre Hugo apareció 1 veces\n",
            "El nombre Mariano apareció 1 veces\n",
            "El nombre D apareció 1 veces\n",
            "El nombre Elia apareció 1 veces\n",
            "El nombre Alvaro apareció 1 veces\n",
            "El nombre Tadeo apareció 1 veces\n",
            "El nombre Geronimo apareció 1 veces\n",
            "El nombre Soriano apareció 1 veces\n",
            "El nombre Lizzie apareció 1 veces\n",
            "El nombre Amaya apareció 1 veces\n",
            "El nombre Guzman apareció 2 veces\n",
            "El nombre Angélica apareció 1 veces\n",
            "El nombre Morena apareció 2 veces\n",
            "El nombre Jazmin apareció 1 veces\n",
            "El nombre Esmeralda apareció 1 veces\n",
            "El nombre Belen apareció 2 veces\n",
            "El nombre Jaime apareció 1 veces\n",
            "El nombre Anita apareció 1 veces\n",
            "El nombre Lacour apareció 1 veces\n",
            "El nombre Polo apareció 1 veces\n",
            "El nombre Nazarena apareció 1 veces\n",
            "El nombre Lascano apareció 1 veces\n",
            "El nombre Fabricio apareció 1 veces\n",
            "El nombre Lezcano apareció 1 veces\n",
            "El nombre Celia apareció 1 veces\n",
            "El nombre Tomas apareció 1 veces\n",
            "El nombre Andres apareció 1 veces\n",
            "El nombre Portella apareció 1 veces\n",
            "El nombre Valdivia apareció 1 veces\n",
            "El nombre Pedro apareció 1 veces\n",
            "El nombre Francisco apareció 2 veces\n",
            "El nombre Retamal apareció 1 veces\n",
            "El nombre Cisneros apareció 1 veces\n",
            "El nombre Zacarias apareció 1 veces\n",
            "El nombre Rosales apareció 1 veces\n",
            "El nombre Salem apareció 1 veces\n",
            "El nombre Barba apareció 1 veces\n",
            "El nombre Mahia apareció 1 veces\n",
            "El nombre Soto apareció 1 veces\n",
            "El nombre Camara apareció 1 veces\n",
            "El nombre Agustin apareció 1 veces\n",
            "El nombre Villalba apareció 1 veces\n",
            "El nombre Irina apareció 1 veces\n",
            "El nombre Voltolini apareció 1 veces\n",
            "El nombre Emanuel apareció 1 veces\n",
            "El nombre Tobias apareció 1 veces\n",
            "El nombre Zalazar apareció 1 veces\n",
            "El nombre Stefano apareció 1 veces\n"
          ]
        }
      ]
    },
    {
      "cell_type": "markdown",
      "source": [
        "4. Genera un diccionario en python, en donde la clave sea cada apellido que aparece en las listas y el valor será la cantidad de veces que se encuentra el mismo.\n",
        "Para este punto es posible fusionar ambas listas en una sola, recordá que hay un método que realiza esta acción."
      ],
      "metadata": {
        "id": "kZeEHUYVNwGV"
      }
    },
    {
      "cell_type": "code",
      "source": [
        "pass"
      ],
      "metadata": {
        "id": "q05GnxXgORzt"
      },
      "execution_count": null,
      "outputs": []
    },
    {
      "cell_type": "markdown",
      "source": [
        "5. Solicita al usuario que ingrese un apellido y muestra  a todos los estudiantes con ese apellido."
      ],
      "metadata": {
        "id": "ywYmA2JQNp3T"
      }
    },
    {
      "cell_type": "code",
      "source": [
        "pass"
      ],
      "metadata": {
        "id": "Cnp334ZrOCjK"
      },
      "execution_count": null,
      "outputs": []
    },
    {
      "cell_type": "markdown",
      "source": [
        "6. Solicita al usuario que ingrese un nombre y muestra a todos los estudiantes con el nombre ingresado."
      ],
      "metadata": {
        "id": "iAXts6saODoU"
      }
    },
    {
      "cell_type": "code",
      "source": [
        "pass"
      ],
      "metadata": {
        "id": "FMRsUlvtOJS_"
      },
      "execution_count": null,
      "outputs": []
    },
    {
      "cell_type": "markdown",
      "source": [
        "7. Busca el diccionario con tu información dentro de la lista y cámbiate de división, de tal manera que si estas en 5C, con el cambio quedes en 5D y viceversa."
      ],
      "metadata": {
        "id": "T4PFiwwdOK27"
      }
    },
    {
      "cell_type": "code",
      "source": [
        "# Operador ternario o expresion condicional\n",
        "num = int(input(\"Ingrese un numero: \"))\n",
        "salida = \"Es Par\" if num%2==0 else \"Es impar\"\n",
        "print(salida)"
      ],
      "metadata": {
        "id": "vjQ2X9x3OmFr",
        "outputId": "61c751a1-2d88-407d-fef3-b7a7ddb91312",
        "colab": {
          "base_uri": "https://localhost:8080/"
        }
      },
      "execution_count": 6,
      "outputs": [
        {
          "output_type": "stream",
          "name": "stdout",
          "text": [
            "Ingrese un numero: 2\n",
            "Es Par\n"
          ]
        }
      ]
    },
    {
      "cell_type": "code",
      "source": [
        "nombre= input(\"Ingrese su nombre: \").title()\n",
        "apellido = input(\"Ingrese su apellido: \").title()\n",
        "i = 0\n",
        "while i<len(lista_dict):\n",
        "  if lista_dict[i][\"apellido\"] == apellido and lista_dict[i][\"nombre\"] == nombre:\n",
        "    break\n",
        "  else:\n",
        "    i+=1\n",
        "if i<len(lista_dict):\n",
        "  lista_dict[i][\"division\"] = \"C\" if lista_dict[i][\"division\"] == \"D\" else \"D\"\n",
        "\n",
        "print(lista_dict[i])\n",
        "\n",
        "# Celia Morena\n",
        "# Lezcano"
      ],
      "metadata": {
        "id": "bbHgXcQ1XhPc",
        "outputId": "e0d61fd3-65b0-4614-c814-6895fd4b5fbf",
        "colab": {
          "base_uri": "https://localhost:8080/"
        }
      },
      "execution_count": 11,
      "outputs": [
        {
          "output_type": "stream",
          "name": "stdout",
          "text": [
            "Ingrese su nombre: Celia Morena\n",
            "Ingrese su apellido: Lezcano\n",
            "{'nombre': 'Celia Morena', 'apellido': 'Lezcano', 'division': 'D', 'curso': 5, 'fecha_nacimiento': '01/07/2005'}\n"
          ]
        }
      ]
    },
    {
      "cell_type": "markdown",
      "source": [
        "8. Ordenar la lista alfabeticamente por nombre. Ascendente y descendentemente. Para elegir como ordenarla, mostrar un menú donde el usuario podrá decidir como quiere ver la salida."
      ],
      "metadata": {
        "id": "xfy8SFlZRVGf"
      }
    },
    {
      "cell_type": "code",
      "source": [],
      "metadata": {
        "id": "E4Onk1FNRUa2"
      },
      "execution_count": null,
      "outputs": []
    },
    {
      "cell_type": "markdown",
      "source": [
        "9. Ordenar la lista alfabeticamente por apellido. Ascendente y descendentemente. Para elegir como ordenarla, mostrar un menú donde el usuario podrá decidir como quiere ver la salida."
      ],
      "metadata": {
        "id": "lW18NgPjRcGP"
      }
    },
    {
      "cell_type": "code",
      "source": [],
      "metadata": {
        "id": "jTtWBnalRcoC"
      },
      "execution_count": null,
      "outputs": []
    },
    {
      "cell_type": "markdown",
      "source": [
        "10. Ordena la lista por fecha de nacimiento, de manera ascendente y descendente."
      ],
      "metadata": {
        "id": "E24lH7x5Xbur"
      }
    },
    {
      "cell_type": "code",
      "source": [],
      "metadata": {
        "id": "9SeI3GBGXims"
      },
      "execution_count": null,
      "outputs": []
    },
    {
      "cell_type": "markdown",
      "source": [
        "11. Generar una estuctura de diccionario anidado en donde la clave sea el nombre del estudiante y el valor sea un diccionario con los datos del mismo, de la siguiente manera:\n",
        "\n",
        "\n",
        "\n",
        "\n",
        "```python\n",
        "estudiantes = {\n",
        "    \"Juan Perez\": {\n",
        "        \"año\": 2024,\n",
        "        \"división\": \"5D\",\n",
        "        \"fecha de nacimiento\": \"15/03/2006\"\n",
        "    },\n",
        "    \"Maria Gomez\": {\n",
        "        \"año\": 2024,\n",
        "        \"división\": \"5D\",\n",
        "        \"fecha de nacimiento\": \"22/07/2006\"\n",
        "    },\n",
        "    \"Carlos Lopez\": {\n",
        "        \"año\": 2024,\n",
        "        \"división\": \"5D\",\n",
        "        \"fecha de nacimiento\": \"05/10/2006\"\n",
        "    }\n",
        "}\n",
        "```\n",
        "\n",
        "\n",
        "\n",
        "\n"
      ],
      "metadata": {
        "id": "vOY6K_ydRc3Q"
      }
    },
    {
      "cell_type": "code",
      "source": [],
      "metadata": {
        "id": "9JDrd3WqRdTi"
      },
      "execution_count": null,
      "outputs": []
    }
  ]
}