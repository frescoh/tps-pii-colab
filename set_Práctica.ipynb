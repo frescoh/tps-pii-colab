{
  "cells": [
    {
      "cell_type": "markdown",
      "metadata": {
        "colab_type": "text",
        "id": "view-in-github"
      },
      "source": [
        "<a href=\"https://colab.research.google.com/github/frescoh/tps-pii-colab/blob/5D/set_Pr%C3%A1ctica.ipynb\" target=\"_parent\"><img src=\"https://colab.research.google.com/assets/colab-badge.svg\" alt=\"Open In Colab\"/></a>"
      ]
    },
    {
      "cell_type": "code",
      "execution_count": 2,
      "metadata": {
        "id": "8VOD-zpMJovw"
      },
      "outputs": [],
      "source": [
        "estudiantes = [\n",
        "    {'name': 'Abud Laspiur, Lourdes Mariel', 'section': 'C', 'dob': '05/12/2006'},\n",
        "    {'name': 'Amador, Luana Micaela', 'section': 'C', 'dob': '09/12/2006'},\n",
        "    {'name': 'Anaquin, Leonardo Ezequiel', 'section': 'C', 'dob': '06/09/2005'},\n",
        "    {'name': 'Araoz Sanchez, Lautaro Nahuel', 'section': 'C', 'dob': '28/12/2005'},\n",
        "    {'name': 'Argañaraz, Agostina Abril', 'section': 'C', 'dob': '11/10/2006'},\n",
        "    {'name': 'Barrera, Matias Ezequiel', 'section': 'C', 'dob': '27/02/2007'},\n",
        "    {'name': 'Barrera, Matias Ezequiel', 'section': 'C', 'dob': '27/02/2007'},  # Repetido\n",
        "    {'name': 'Barrozo Vedia, Joaquin Nicolas', 'section': 'C', 'dob': '15/04/2006'},\n",
        "    {'name': 'Bettinelli, Valentino', 'section': 'C', 'dob': '12/07/2006'},\n",
        "    {'name': 'Bracamonte Martinez, Salvador', 'section': 'C', 'dob': '02/11/2005'},\n",
        "    {'name': 'Colque Rivero, Ariana Zoe Del Valle', 'section': 'C', 'dob': '27/12/2006'},\n",
        "    {'name': 'Diaz, Dulce Maitena', 'section': 'C', 'dob': '11/12/2006'},\n",
        "    {'name': 'Figueroa, Santino Josue', 'section': 'C', 'dob': '12/05/2007'},\n",
        "    {'name': 'Figueroa, Santino Josue', 'section': 'C', 'dob': '12/05/2007'},  # Repetido\n",
        "    {'name': 'Flores Cardozo, Agustina Tiara', 'section': 'C', 'dob': '18/03/2006'},\n",
        "    {'name': 'Gallo, Octavio Ismael', 'section': 'C', 'dob': '04/08/2006'},\n",
        "    {'name': 'Galvan, Lourdes Yamila', 'section': 'C', 'dob': '19/08/2005'},\n",
        "    {'name': 'Giangreco, Vitto Tomasso', 'section': 'C', 'dob': '21/03/2007'},\n",
        "    {'name': 'Grancara, Martina Luna', 'section': 'C', 'dob': '15/12/2006'},\n",
        "    {'name': 'Guanca, Sara Elizabeth', 'section': 'C', 'dob': '17/01/2007'},\n",
        "    {'name': 'Lopez, Victoria Constanza', 'section': 'C', 'dob': '12/11/2007'},\n",
        "    {'name': 'Mamani Garrido, Rosario Agostina', 'section': 'C', 'dob': '24/10/2006'},\n",
        "    {'name': 'Marinaro, Martin Ezequiel', 'section': 'C', 'dob': '03/11/2006'},\n",
        "    {'name': 'Merluzzi Dagum, Ignacio', 'section': 'C', 'dob': '22/12/2005'},\n",
        "    {'name': 'Messina, Martina', 'section': 'C', 'dob': '13/07/2005'},\n",
        "    {'name': 'Rasuk, Karim', 'section': 'C', 'dob': '13/07/2007'},\n",
        "    {'name': 'Rasuk, Karim', 'section': 'C', 'dob': '13/07/2007'},  # Repetido\n",
        "    {'name': 'Rios, Lucia Magali', 'section': 'C', 'dob': '22/09/2006'},\n",
        "    {'name': 'Sanchez Flores, Matías Agustín', 'section': 'C', 'dob': '15/02/2007'},\n",
        "    {'name': 'Scarano, Renato Marcelo', 'section': 'C', 'dob': '06/12/2006'},\n",
        "    {'name': 'Sierra, Lucas Mauricio', 'section': 'C', 'dob': '03/04/2005'},\n",
        "    {'name': 'Tapia, Martin Gabriel', 'section': 'C', 'dob': '30/05/2006'},\n",
        "    {'name': 'Vilte, Mia Antonella Alondra', 'section': 'C', 'dob': '10/09/2005'},\n",
        "    {'name': 'Virgillito, Katya Milena', 'section': 'C', 'dob': '19/06/2007'},\n",
        "    {'name': 'Alurralde, Solange Stefania', 'section': 'D', 'dob': '02/04/2007'},\n",
        "    {'name': 'Alvarado, Ludmila Del Milagro', 'section': 'D', 'dob': '06/09/2006'},\n",
        "    {'name': 'Angel, Camila Juliana', 'section': 'D', 'dob': '07/03/2007'},\n",
        "    {'name': 'Arenas, Lucas Gabriel', 'section': 'D', 'dob': '26/06/2007'},\n",
        "    {'name': 'Caseres, Maria Antonia', 'section': 'D', 'dob': '01/07/2006'},\n",
        "    {'name': 'Castillo, Paulina Milagros', 'section': 'D', 'dob': '01/06/2007'},\n",
        "    {'name': 'Correa Segovia, Hugo Mariano', 'section': 'D', 'dob': '04/12/2006'},\n",
        "    {'name': 'Correa Segovia, Hugo Mariano', 'section': 'D', 'dob': '04/12/2006'},  # Repetido\n",
        "    {'name': 'D Elia, Alvaro Tadeo', 'section': 'D', 'dob': '27/08/2006'},\n",
        "    {'name': 'Flores, Victoria Agustina', 'section': 'D', 'dob': '12/12/2006'},\n",
        "    {'name': 'Geronimo Soriano, Lizzie Amaya', 'section': 'D', 'dob': '20/01/2007'},\n",
        "    {'name': 'Guzman, Angélica Morena', 'section': 'D', 'dob': '11/04/2007'},\n",
        "    {'name': 'Guzman, Jazmin Esmeralda Belen', 'section': 'D', 'dob': '31/07/2006'},\n",
        "    {'name': 'Jaime, Anita Maria Belen', 'section': 'D', 'dob': '19/04/2007'},\n",
        "    {'name': 'Lacour Polo, Nazarena', 'section': 'D', 'dob': '19/12/2005'},\n",
        "    {'name': 'Lascano Guanca, Marcelo Fabricio', 'section': 'D', 'dob': '17/02/2006'},\n",
        "    {'name': 'Lezcano, Celia Morena', 'section': 'D', 'dob': '01/07/2005'},\n",
        "    {'name': 'Martinez, Tomas Andres', 'section': 'D', 'dob': '22/03/2007'},\n",
        "    {'name': 'Portella Valdivia, Pedro Francisco', 'section': 'D', 'dob': '24/01/2007'},\n",
        "    {'name': 'Retamal Cisneros, Zacarias Josue', 'section': 'D', 'dob': '24/02/2007'},\n",
        "    {'name': 'Rosales, Francisco Gabriel', 'section': 'D', 'dob': '14/11/2006'},\n",
        "    {'name': 'Salem Barba, Mahia', 'section': 'D', 'dob': '14/10/2005'},\n",
        "    {'name': 'Soto Camara, Agustin Ignacio', 'section': 'D', 'dob': '07/11/2005'},\n",
        "    {'name': 'Villalba, Irina', 'section': 'D', 'dob': '09/09/2006'},\n",
        "    {'name': 'Voltolini, Emanuel Tobias', 'section': 'D', 'dob': '17/09/2006'},\n",
        "    {'name': 'Zalazar, Santino Stefano', 'section': 'D', 'dob': '30/09/2006'},\n",
        "    {'name': 'Zalazar, Santino Stefano', 'section': 'D', 'dob': '30/09/2006'}  # Repetido\n",
        "]\n"
      ]
    },
    {
      "cell_type": "code",
      "execution_count": null,
      "metadata": {
        "colab": {
          "base_uri": "https://localhost:8080/"
        },
        "id": "7lcHoIqemYFH",
        "outputId": "433f5b24-ee3e-4c81-be7e-f0e112350a24"
      },
      "outputs": [
        {
          "name": "stdout",
          "output_type": "stream",
          "text": [
            "{\n",
            "    \"name\": \"Abud Laspiur, Lourdes Mariel\",\n",
            "    \"section\": \"C\",\n",
            "    \"dob\": \"05/12/2006\"\n",
            "} ,\n",
            "{\n",
            "    \"name\": \"Amador, Luana Micaela\",\n",
            "    \"section\": \"C\",\n",
            "    \"dob\": \"09/12/2006\"\n",
            "} ,\n",
            "{\n",
            "    \"name\": \"Anaquin, Leonardo Ezequiel\",\n",
            "    \"section\": \"C\",\n",
            "    \"dob\": \"06/09/2005\"\n",
            "} ,\n",
            "{\n",
            "    \"name\": \"Araoz Sanchez, Lautaro Nahuel\",\n",
            "    \"section\": \"C\",\n",
            "    \"dob\": \"28/12/2005\"\n",
            "} ,\n",
            "{\n",
            "    \"name\": \"Argañaraz, Agostina Abril\",\n",
            "    \"section\": \"C\",\n",
            "    \"dob\": \"11/10/2006\"\n",
            "} ,\n",
            "{\n",
            "    \"name\": \"Barrera, Matias Ezequiel\",\n",
            "    \"section\": \"C\",\n",
            "    \"dob\": \"27/02/2007\"\n",
            "} ,\n",
            "{\n",
            "    \"name\": \"Barrera, Matias Ezequiel\",\n",
            "    \"section\": \"C\",\n",
            "    \"dob\": \"27/02/2007\"\n",
            "} ,\n",
            "{\n",
            "    \"name\": \"Barrozo Vedia, Joaquin Nicolas\",\n",
            "    \"section\": \"C\",\n",
            "    \"dob\": \"15/04/2006\"\n",
            "} ,\n",
            "{\n",
            "    \"name\": \"Bettinelli, Valentino\",\n",
            "    \"section\": \"C\",\n",
            "    \"dob\": \"12/07/2006\"\n",
            "} ,\n",
            "{\n",
            "    \"name\": \"Bracamonte Martinez, Salvador\",\n",
            "    \"section\": \"C\",\n",
            "    \"dob\": \"02/11/2005\"\n",
            "} ,\n",
            "{\n",
            "    \"name\": \"Colque Rivero, Ariana Zoe Del Valle\",\n",
            "    \"section\": \"C\",\n",
            "    \"dob\": \"27/12/2006\"\n",
            "} ,\n",
            "{\n",
            "    \"name\": \"Diaz, Dulce Maitena\",\n",
            "    \"section\": \"C\",\n",
            "    \"dob\": \"11/12/2006\"\n",
            "} ,\n",
            "{\n",
            "    \"name\": \"Figueroa, Santino Josue\",\n",
            "    \"section\": \"C\",\n",
            "    \"dob\": \"12/05/2007\"\n",
            "} ,\n",
            "{\n",
            "    \"name\": \"Figueroa, Santino Josue\",\n",
            "    \"section\": \"C\",\n",
            "    \"dob\": \"12/05/2007\"\n",
            "} ,\n",
            "{\n",
            "    \"name\": \"Flores Cardozo, Agustina Tiara\",\n",
            "    \"section\": \"C\",\n",
            "    \"dob\": \"18/03/2006\"\n",
            "} ,\n",
            "{\n",
            "    \"name\": \"Gallo, Octavio Ismael\",\n",
            "    \"section\": \"C\",\n",
            "    \"dob\": \"04/08/2006\"\n",
            "} ,\n",
            "{\n",
            "    \"name\": \"Galvan, Lourdes Yamila\",\n",
            "    \"section\": \"C\",\n",
            "    \"dob\": \"19/08/2005\"\n",
            "} ,\n",
            "{\n",
            "    \"name\": \"Giangreco, Vitto Tomasso\",\n",
            "    \"section\": \"C\",\n",
            "    \"dob\": \"21/03/2007\"\n",
            "} ,\n",
            "{\n",
            "    \"name\": \"Grancara, Martina Luna\",\n",
            "    \"section\": \"C\",\n",
            "    \"dob\": \"15/12/2006\"\n",
            "} ,\n",
            "{\n",
            "    \"name\": \"Guanca, Sara Elizabeth\",\n",
            "    \"section\": \"C\",\n",
            "    \"dob\": \"17/01/2007\"\n",
            "} ,\n",
            "{\n",
            "    \"name\": \"Lopez, Victoria Constanza\",\n",
            "    \"section\": \"C\",\n",
            "    \"dob\": \"12/11/2007\"\n",
            "} ,\n",
            "{\n",
            "    \"name\": \"Mamani Garrido, Rosario Agostina\",\n",
            "    \"section\": \"C\",\n",
            "    \"dob\": \"24/10/2006\"\n",
            "} ,\n",
            "{\n",
            "    \"name\": \"Marinaro, Martin Ezequiel\",\n",
            "    \"section\": \"C\",\n",
            "    \"dob\": \"03/11/2006\"\n",
            "} ,\n",
            "{\n",
            "    \"name\": \"Merluzzi Dagum, Ignacio\",\n",
            "    \"section\": \"C\",\n",
            "    \"dob\": \"22/12/2005\"\n",
            "} ,\n",
            "{\n",
            "    \"name\": \"Messina, Martina\",\n",
            "    \"section\": \"C\",\n",
            "    \"dob\": \"13/07/2005\"\n",
            "} ,\n",
            "{\n",
            "    \"name\": \"Rasuk, Karim\",\n",
            "    \"section\": \"C\",\n",
            "    \"dob\": \"13/07/2007\"\n",
            "} ,\n",
            "{\n",
            "    \"name\": \"Rasuk, Karim\",\n",
            "    \"section\": \"C\",\n",
            "    \"dob\": \"13/07/2007\"\n",
            "} ,\n",
            "{\n",
            "    \"name\": \"Rios, Lucia Magali\",\n",
            "    \"section\": \"C\",\n",
            "    \"dob\": \"22/09/2006\"\n",
            "} ,\n",
            "{\n",
            "    \"name\": \"Sanchez Flores, Matías Agustín\",\n",
            "    \"section\": \"C\",\n",
            "    \"dob\": \"15/02/2007\"\n",
            "} ,\n",
            "{\n",
            "    \"name\": \"Scarano, Renato Marcelo\",\n",
            "    \"section\": \"C\",\n",
            "    \"dob\": \"06/12/2006\"\n",
            "} ,\n",
            "{\n",
            "    \"name\": \"Sierra, Lucas Mauricio\",\n",
            "    \"section\": \"C\",\n",
            "    \"dob\": \"03/04/2005\"\n",
            "} ,\n",
            "{\n",
            "    \"name\": \"Tapia, Martin Gabriel\",\n",
            "    \"section\": \"C\",\n",
            "    \"dob\": \"30/05/2006\"\n",
            "} ,\n",
            "{\n",
            "    \"name\": \"Vilte, Mia Antonella Alondra\",\n",
            "    \"section\": \"C\",\n",
            "    \"dob\": \"10/09/2005\"\n",
            "} ,\n",
            "{\n",
            "    \"name\": \"Virgillito, Katya Milena\",\n",
            "    \"section\": \"C\",\n",
            "    \"dob\": \"19/06/2007\"\n",
            "} ,\n",
            "{\n",
            "    \"name\": \"Alurralde, Solange Stefania\",\n",
            "    \"section\": \"D\",\n",
            "    \"dob\": \"02/04/2007\"\n",
            "} ,\n",
            "{\n",
            "    \"name\": \"Alvarado, Ludmila Del Milagro\",\n",
            "    \"section\": \"D\",\n",
            "    \"dob\": \"06/09/2006\"\n",
            "} ,\n",
            "{\n",
            "    \"name\": \"Angel, Camila Juliana\",\n",
            "    \"section\": \"D\",\n",
            "    \"dob\": \"07/03/2007\"\n",
            "} ,\n",
            "{\n",
            "    \"name\": \"Arenas, Lucas Gabriel\",\n",
            "    \"section\": \"D\",\n",
            "    \"dob\": \"26/06/2007\"\n",
            "} ,\n",
            "{\n",
            "    \"name\": \"Caseres, Maria Antonia\",\n",
            "    \"section\": \"D\",\n",
            "    \"dob\": \"01/07/2006\"\n",
            "} ,\n",
            "{\n",
            "    \"name\": \"Castillo, Paulina Milagros\",\n",
            "    \"section\": \"D\",\n",
            "    \"dob\": \"01/06/2007\"\n",
            "} ,\n",
            "{\n",
            "    \"name\": \"Correa Segovia, Hugo Mariano\",\n",
            "    \"section\": \"D\",\n",
            "    \"dob\": \"04/12/2006\"\n",
            "} ,\n",
            "{\n",
            "    \"name\": \"Correa Segovia, Hugo Mariano\",\n",
            "    \"section\": \"D\",\n",
            "    \"dob\": \"04/12/2006\"\n",
            "} ,\n",
            "{\n",
            "    \"name\": \"D Elia, Alvaro Tadeo\",\n",
            "    \"section\": \"D\",\n",
            "    \"dob\": \"27/08/2006\"\n",
            "} ,\n",
            "{\n",
            "    \"name\": \"Flores, Victoria Agustina\",\n",
            "    \"section\": \"D\",\n",
            "    \"dob\": \"12/12/2006\"\n",
            "} ,\n",
            "{\n",
            "    \"name\": \"Geronimo Soriano, Lizzie Amaya\",\n",
            "    \"section\": \"D\",\n",
            "    \"dob\": \"20/01/2007\"\n",
            "} ,\n",
            "{\n",
            "    \"name\": \"Guzman, Angélica Morena\",\n",
            "    \"section\": \"D\",\n",
            "    \"dob\": \"11/04/2007\"\n",
            "} ,\n",
            "{\n",
            "    \"name\": \"Guzman, Jazmin Esmeralda Belen\",\n",
            "    \"section\": \"D\",\n",
            "    \"dob\": \"31/07/2006\"\n",
            "} ,\n",
            "{\n",
            "    \"name\": \"Jaime, Anita Maria Belen\",\n",
            "    \"section\": \"D\",\n",
            "    \"dob\": \"19/04/2007\"\n",
            "} ,\n",
            "{\n",
            "    \"name\": \"Lacour Polo, Nazarena\",\n",
            "    \"section\": \"D\",\n",
            "    \"dob\": \"19/12/2005\"\n",
            "} ,\n",
            "{\n",
            "    \"name\": \"Lascano Guanca, Marcelo Fabricio\",\n",
            "    \"section\": \"D\",\n",
            "    \"dob\": \"17/02/2006\"\n",
            "} ,\n",
            "{\n",
            "    \"name\": \"Lezcano, Celia Morena\",\n",
            "    \"section\": \"D\",\n",
            "    \"dob\": \"01/07/2005\"\n",
            "} ,\n",
            "{\n",
            "    \"name\": \"Martinez, Tomas Andres\",\n",
            "    \"section\": \"D\",\n",
            "    \"dob\": \"22/03/2007\"\n",
            "} ,\n",
            "{\n",
            "    \"name\": \"Portella Valdivia, Pedro Francisco\",\n",
            "    \"section\": \"D\",\n",
            "    \"dob\": \"24/01/2007\"\n",
            "} ,\n",
            "{\n",
            "    \"name\": \"Retamal Cisneros, Zacarias Josue\",\n",
            "    \"section\": \"D\",\n",
            "    \"dob\": \"24/02/2007\"\n",
            "} ,\n",
            "{\n",
            "    \"name\": \"Rosales, Francisco Gabriel\",\n",
            "    \"section\": \"D\",\n",
            "    \"dob\": \"14/11/2006\"\n",
            "} ,\n",
            "{\n",
            "    \"name\": \"Salem Barba, Mahia\",\n",
            "    \"section\": \"D\",\n",
            "    \"dob\": \"14/10/2005\"\n",
            "} ,\n",
            "{\n",
            "    \"name\": \"Soto Camara, Agustin Ignacio\",\n",
            "    \"section\": \"D\",\n",
            "    \"dob\": \"07/11/2005\"\n",
            "} ,\n",
            "{\n",
            "    \"name\": \"Villalba, Irina\",\n",
            "    \"section\": \"D\",\n",
            "    \"dob\": \"09/09/2006\"\n",
            "} ,\n",
            "{\n",
            "    \"name\": \"Voltolini, Emanuel Tobias\",\n",
            "    \"section\": \"D\",\n",
            "    \"dob\": \"17/09/2006\"\n",
            "} ,\n",
            "{\n",
            "    \"name\": \"Zalazar, Santino Stefano\",\n",
            "    \"section\": \"D\",\n",
            "    \"dob\": \"30/09/2006\"\n",
            "} ,\n",
            "{\n",
            "    \"name\": \"Zalazar, Santino Stefano\",\n",
            "    \"section\": \"D\",\n",
            "    \"dob\": \"30/09/2006\"\n",
            "} ,\n"
          ]
        }
      ],
      "source": [
        "# Spoiler de estructura que veremos en los siguientes TPs\n",
        "import json\n",
        "for estudiante in estudiantes:\n",
        "  alumno_json = json.dumps(estudiante,indent=4,ensure_ascii=False)\n",
        "  print(alumno_json,\",\")"
      ]
    },
    {
      "cell_type": "markdown",
      "metadata": {
        "id": "rd6Ug6v3J4uN"
      },
      "source": [
        "## Dada la lista estudiantes:\n",
        "> - Hacer una celda para resolver cada punto.\n",
        "- El TP resuelto será revisado en tu repositorio, no es necesario que lo envíes, pero sí que lo pushees correctamente.\n",
        "- En la nota inicial se contempla:\n",
        "  - La incorporación de este documento a tu propio respositorio.\n",
        "  - El pusheo de los cambios realizados.\n",
        "  - La resolución de los ejercicios propuestos.\n"
      ]
    },
    {
      "cell_type": "markdown",
      "metadata": {
        "id": "wRLng-uURyJ3"
      },
      "source": [
        "1. Dada la lista de estudiantes, elimina los elementos repetidos de la misma, usando para ello una estructura set. El resultado final debe ser una lista, con la misma estructura de la original, pero sin datos repetidos.\n",
        "\n",
        "Para esto tener en cuenta que:\n",
        "- Los conjuntos solo pueden almacenar datos inmutables.\n",
        "- Los diccionarios son estructuras mutables.\n",
        "- dict.items() devuelve una lista de tuplas.\n",
        "- dict(tupla) genera un diccionario, donde el primer elemento de la tupla es la clave, y el segundo el valor. Ej:\n",
        "\n",
        "  ```python\n",
        "  dict([(\"Alberto\", 10), (\"José\", 7), (\"Dario\", 14), (\"Ana\", 8), (\"Maria\", 9), (\"Emilia\", 10)])\n",
        "\n",
        "\n",
        "  va a generar el siguiente diccionario:\n",
        "\n",
        "\n",
        "  ```python\n",
        "  {'Alberto': 10, 'José': 7, 'Dario': 14, 'Ana': 8, 'Maria': 9, 'Emilia': 10}\n",
        "  ```\n",
        "\n"
      ]
    },
    {
      "cell_type": "code",
      "execution_count": 6,
      "metadata": {
        "colab": {
          "base_uri": "https://localhost:8080/"
        },
        "id": "OJhGfh0178AN",
        "outputId": "636c1086-cacc-4e86-a20a-7a2dbffed43b"
      },
      "outputs": [
        {
          "data": {
            "text/plain": [
              "(('name', 'Abud Laspiur, Lourdes Mariel'),\n",
              " ('section', 'C'),\n",
              " ('dob', '05/12/2006'))"
            ]
          },
          "execution_count": 6,
          "metadata": {},
          "output_type": "execute_result"
        }
      ],
      "source": [
        "d =  {'name': 'Abud Laspiur, Lourdes Mariel', 'section': 'C', 'dob': '05/12/2006'}\n",
        "tuple(d.items())"
      ]
    },
    {
      "cell_type": "code",
      "execution_count": 7,
      "metadata": {
        "colab": {
          "base_uri": "https://localhost:8080/"
        },
        "id": "-VLjT3O783Yo",
        "outputId": "fb229fe4-4833-4095-a367-f078af935b9c"
      },
      "outputs": [
        {
          "name": "stdout",
          "output_type": "stream",
          "text": [
            "{'name': 'Flores, Victoria Agustina', 'section': 'D', 'dob': '12/12/2006'}\n",
            "{'name': 'Marinaro, Martin Ezequiel', 'section': 'C', 'dob': '03/11/2006'}\n",
            "{'name': 'Figueroa, Santino Josue', 'section': 'C', 'dob': '12/05/2007'}\n",
            "{'name': 'Mamani Garrido, Rosario Agostina', 'section': 'C', 'dob': '24/10/2006'}\n",
            "{'name': 'Guzman, Jazmin Esmeralda Belen', 'section': 'D', 'dob': '31/07/2006'}\n",
            "{'name': 'D Elia, Alvaro Tadeo', 'section': 'D', 'dob': '27/08/2006'}\n",
            "{'name': 'Scarano, Renato Marcelo', 'section': 'C', 'dob': '06/12/2006'}\n",
            "{'name': 'Colque Rivero, Ariana Zoe Del Valle', 'section': 'C', 'dob': '27/12/2006'}\n",
            "{'name': 'Alvarado, Ludmila Del Milagro', 'section': 'D', 'dob': '06/09/2006'}\n",
            "{'name': 'Barrozo Vedia, Joaquin Nicolas', 'section': 'C', 'dob': '15/04/2006'}\n",
            "{'name': 'Abud Laspiur, Lourdes Mariel', 'section': 'C', 'dob': '05/12/2006'}\n",
            "{'name': 'Argañaraz, Agostina Abril', 'section': 'C', 'dob': '11/10/2006'}\n",
            "{'name': 'Caseres, Maria Antonia', 'section': 'D', 'dob': '01/07/2006'}\n",
            "{'name': 'Guzman, Angélica Morena', 'section': 'D', 'dob': '11/04/2007'}\n",
            "{'name': 'Zalazar, Santino Stefano', 'section': 'D', 'dob': '30/09/2006'}\n",
            "{'name': 'Lacour Polo, Nazarena', 'section': 'D', 'dob': '19/12/2005'}\n",
            "{'name': 'Virgillito, Katya Milena', 'section': 'C', 'dob': '19/06/2007'}\n",
            "{'name': 'Rasuk, Karim', 'section': 'C', 'dob': '13/07/2007'}\n",
            "{'name': 'Geronimo Soriano, Lizzie Amaya', 'section': 'D', 'dob': '20/01/2007'}\n",
            "{'name': 'Anaquin, Leonardo Ezequiel', 'section': 'C', 'dob': '06/09/2005'}\n",
            "{'name': 'Araoz Sanchez, Lautaro Nahuel', 'section': 'C', 'dob': '28/12/2005'}\n",
            "{'name': 'Gallo, Octavio Ismael', 'section': 'C', 'dob': '04/08/2006'}\n",
            "{'name': 'Rosales, Francisco Gabriel', 'section': 'D', 'dob': '14/11/2006'}\n",
            "{'name': 'Soto Camara, Agustin Ignacio', 'section': 'D', 'dob': '07/11/2005'}\n",
            "{'name': 'Bracamonte Martinez, Salvador', 'section': 'C', 'dob': '02/11/2005'}\n",
            "{'name': 'Sierra, Lucas Mauricio', 'section': 'C', 'dob': '03/04/2005'}\n",
            "{'name': 'Guanca, Sara Elizabeth', 'section': 'C', 'dob': '17/01/2007'}\n",
            "{'name': 'Correa Segovia, Hugo Mariano', 'section': 'D', 'dob': '04/12/2006'}\n",
            "{'name': 'Salem Barba, Mahia', 'section': 'D', 'dob': '14/10/2005'}\n",
            "{'name': 'Castillo, Paulina Milagros', 'section': 'D', 'dob': '01/06/2007'}\n",
            "{'name': 'Lopez, Victoria Constanza', 'section': 'C', 'dob': '12/11/2007'}\n",
            "{'name': 'Rios, Lucia Magali', 'section': 'C', 'dob': '22/09/2006'}\n",
            "{'name': 'Alurralde, Solange Stefania', 'section': 'D', 'dob': '02/04/2007'}\n",
            "{'name': 'Retamal Cisneros, Zacarias Josue', 'section': 'D', 'dob': '24/02/2007'}\n",
            "{'name': 'Bettinelli, Valentino', 'section': 'C', 'dob': '12/07/2006'}\n",
            "{'name': 'Barrera, Matias Ezequiel', 'section': 'C', 'dob': '27/02/2007'}\n",
            "{'name': 'Galvan, Lourdes Yamila', 'section': 'C', 'dob': '19/08/2005'}\n",
            "{'name': 'Arenas, Lucas Gabriel', 'section': 'D', 'dob': '26/06/2007'}\n",
            "{'name': 'Jaime, Anita Maria Belen', 'section': 'D', 'dob': '19/04/2007'}\n",
            "{'name': 'Portella Valdivia, Pedro Francisco', 'section': 'D', 'dob': '24/01/2007'}\n",
            "{'name': 'Sanchez Flores, Matías Agustín', 'section': 'C', 'dob': '15/02/2007'}\n",
            "{'name': 'Lezcano, Celia Morena', 'section': 'D', 'dob': '01/07/2005'}\n",
            "{'name': 'Merluzzi Dagum, Ignacio', 'section': 'C', 'dob': '22/12/2005'}\n",
            "{'name': 'Lascano Guanca, Marcelo Fabricio', 'section': 'D', 'dob': '17/02/2006'}\n",
            "{'name': 'Tapia, Martin Gabriel', 'section': 'C', 'dob': '30/05/2006'}\n",
            "{'name': 'Giangreco, Vitto Tomasso', 'section': 'C', 'dob': '21/03/2007'}\n",
            "{'name': 'Grancara, Martina Luna', 'section': 'C', 'dob': '15/12/2006'}\n",
            "{'name': 'Vilte, Mia Antonella Alondra', 'section': 'C', 'dob': '10/09/2005'}\n",
            "{'name': 'Villalba, Irina', 'section': 'D', 'dob': '09/09/2006'}\n",
            "{'name': 'Martinez, Tomas Andres', 'section': 'D', 'dob': '22/03/2007'}\n",
            "{'name': 'Angel, Camila Juliana', 'section': 'D', 'dob': '07/03/2007'}\n",
            "{'name': 'Flores Cardozo, Agustina Tiara', 'section': 'C', 'dob': '18/03/2006'}\n",
            "{'name': 'Voltolini, Emanuel Tobias', 'section': 'D', 'dob': '17/09/2006'}\n",
            "{'name': 'Diaz, Dulce Maitena', 'section': 'C', 'dob': '11/12/2006'}\n",
            "{'name': 'Amador, Luana Micaela', 'section': 'C', 'dob': '09/12/2006'}\n",
            "{'name': 'Messina, Martina', 'section': 'C', 'dob': '13/07/2005'}\n"
          ]
        }
      ],
      "source": [
        "lista_tuplas=[]\n",
        "for estudiante in estudiantes:\n",
        "  est_tupla = tuple(estudiante.items())\n",
        "  lista_tuplas.append(est_tupla)\n",
        "\n",
        "# for estudiante in lista_tuplas:\n",
        "#   print(estudiante)\n",
        "\n",
        "conjunto_estudiantes = set(lista_tuplas)\n",
        "\n",
        "lista_sin_repetidos =[]\n",
        "for estudiante in conjunto_estudiantes:\n",
        "  estudiante_dict = dict(estudiante)\n",
        "  lista_sin_repetidos.append(estudiante_dict)\n",
        "\n",
        "for estudiante in lista_sin_repetidos:\n",
        "  print(estudiante)"
      ]
    },
    {
      "cell_type": "code",
      "execution_count": 8,
      "metadata": {
        "colab": {
          "base_uri": "https://localhost:8080/"
        },
        "id": "oQD8CkZU-cJR",
        "outputId": "24fb989d-8f23-4806-ba7c-94d90e78ff15"
      },
      "outputs": [
        {
          "data": {
            "text/plain": [
              "{'name': 'Correa Segovia, Hugo Mariano', 'section': 'D', 'dob': '04/12/2006'}"
            ]
          },
          "execution_count": 8,
          "metadata": {},
          "output_type": "execute_result"
        }
      ],
      "source": [
        "t = (('name', 'Correa Segovia, Hugo Mariano'), ('section', 'D'), ('dob', '04/12/2006'))\n",
        "dict(t)"
      ]
    },
    {
      "cell_type": "markdown",
      "metadata": {
        "id": "dYEGkYZyLy9I"
      },
      "source": [
        "2. Crea un conjunto de nombres y otro de apellidos para 5C y  para 5D.\n",
        "- Muestra los conjuntos generados\n",
        "\n",
        "> recordá que los conjuntos solo pueden almacenar datos inmutables"
      ]
    },
    {
      "cell_type": "code",
      "execution_count": 10,
      "metadata": {
        "colab": {
          "base_uri": "https://localhost:8080/"
        },
        "id": "5hVrzFPgxs_E",
        "outputId": "233d55c4-4f14-4571-e619-a2e6281b1d17"
      },
      "outputs": [
        {
          "name": "stdout",
          "output_type": "stream",
          "text": [
            "{'Abril', 'Yamila', 'Mauricio', 'Matias', 'Ignacio', 'Martin', 'Renato', 'Rosario', 'Dulce', 'Leonardo', 'Victoria', 'Mia', 'Nahuel', 'Mariel', 'Josue', 'Valle', 'Tomasso', 'Joaquin', 'Agustina', 'Nicolas', 'Lucas', 'Milena', 'Constanza', 'Agostina', 'Lucia', 'Katya', 'Lautaro', 'Luana', 'Sara', 'Ismael', 'Agustín', 'Martina', 'Luna', 'Octavio', 'Zoe', 'Del', 'Maitena', 'Lourdes', 'Matías', 'Salvador', 'Tiara', 'Antonella', 'Valentino', 'Magali', 'Karim', 'Ariana', 'Alondra', 'Gabriel', 'Vitto', 'Elizabeth', 'Micaela', 'Marcelo', 'Santino', 'Ezequiel'}\n",
            "{'Messina', 'Bracamonte', 'Dagum', 'Cardozo', 'Vedia', 'Tapia', 'Martinez', 'Garrido', 'Laspiur', 'Vilte', 'Gallo', 'Barrozo', 'Bettinelli', 'Amador', 'Figueroa', 'Argañaraz', 'Rivero', 'Flores', 'Colque', 'Grancara', 'Guanca', 'Lopez', 'Abud', 'Giangreco', 'Rasuk', 'Sierra', 'Marinaro', 'Diaz', 'Sanchez', 'Galvan', 'Merluzzi', 'Anaquin', 'Rios', 'Barrera', 'Mamani', 'Araoz', 'Virgillito', 'Scarano'}\n",
            "{'Solange', 'Tobias', 'Francisco', 'Fabricio', 'Alvaro', 'Hugo', 'Morena', 'Stefania', 'Angélica', 'Victoria', 'Nazarena', 'Lizzie', 'Emanuel', 'Jazmin', 'Maria', 'Josue', 'Agustina', 'Zacarias', 'Belen', 'Juliana', 'Lucas', 'Paulina', 'Esmeralda', 'Santino', 'Amaya', 'Antonia', 'Mariano', 'Pedro', 'Mahia', 'Anita', 'Agustin', 'Milagro', 'Del', 'Tadeo', 'Tomas', 'Irina', 'Ludmila', 'Stefano', 'Celia', 'Gabriel', 'Camila', 'Andres', 'Marcelo', 'Ignacio', 'Milagros'}\n",
            "{'Polo', 'Castillo', 'Geronimo', 'Martinez', 'Villalba', 'Soto', 'Caseres', 'Salem', 'Voltolini', 'Alvarado', 'Elia', 'Flores', 'Camara', 'Guanca', 'Jaime', 'Soriano', 'Cisneros', 'Guzman', 'Retamal', 'Lascano', 'Segovia', 'Alurralde', 'Lezcano', 'Lacour', 'Correa', 'D', 'Rosales', 'Barba', 'Angel', 'Zalazar', 'Arenas', 'Portella', 'Valdivia'}\n"
          ]
        }
      ],
      "source": [
        "nombres_5c = set()\n",
        "apellidos_5c =set()\n",
        "nombres_5d = set()\n",
        "apellidos_5d =set()\n",
        "\n",
        "for estudiante in estudiantes:\n",
        "  nombre_completo = estudiante[\"name\"]\n",
        "  apellido, nombre = nombre_completo.split(\",\")\n",
        "  apellidos = apellido.split(\" \")\n",
        "  nombres = nombre.split()\n",
        "  if estudiante[\"section\"] == \"C\":\n",
        "    for nombre in nombres:\n",
        "      nombres_5c.add(nombre)\n",
        "    for apellido in apellidos:\n",
        "      apellidos_5c.add(apellido)\n",
        "  else:\n",
        "    for nombre in nombres:\n",
        "      nombres_5d.add(nombre)\n",
        "    for apellido in apellidos:\n",
        "      apellidos_5d.add(apellido)\n",
        "print(nombres_5c)\n",
        "print(apellidos_5c)\n",
        "print(nombres_5d)\n",
        "print(apellidos_5d)"
      ]
    },
    {
      "cell_type": "markdown",
      "metadata": {
        "id": "UW2dlBsGMAte"
      },
      "source": [
        "3. Muestra cuantos nombres únicos hay en cada curso."
      ]
    },
    {
      "cell_type": "code",
      "execution_count": 11,
      "metadata": {
        "id": "EawAy4SANtkl"
      },
      "outputs": [
        {
          "name": "stdout",
          "output_type": "stream",
          "text": [
            "En 5C hay 54 nombres únicos\n",
            "En 5D hay 45 nombres únicos\n"
          ]
        }
      ],
      "source": [
        "print(f\"En 5C hay {len(nombres_5c)} nombres únicos\")\n",
        "print(f\"En 5D hay {len(nombres_5d)} nombres únicos\")"
      ]
    },
    {
      "cell_type": "markdown",
      "metadata": {
        "id": "kZeEHUYVNwGV"
      },
      "source": [
        "4. Muestra cuantos apellidos únicos hay en cada curso."
      ]
    },
    {
      "cell_type": "code",
      "execution_count": 12,
      "metadata": {
        "id": "q05GnxXgORzt"
      },
      "outputs": [
        {
          "name": "stdout",
          "output_type": "stream",
          "text": [
            "En 5C hay 38 apellidos únicos\n",
            "En 5D hay 33 apellidos únicos\n"
          ]
        }
      ],
      "source": [
        "print(f\"En 5C hay {len(apellidos_5c)} apellidos únicos\")\n",
        "print(f\"En 5D hay {len(apellidos_5d)} apellidos únicos\")"
      ]
    },
    {
      "cell_type": "markdown",
      "metadata": {
        "id": "ywYmA2JQNp3T"
      },
      "source": [
        "5. Mostrá los nombres que se aparecen em ambos cursos"
      ]
    },
    {
      "cell_type": "code",
      "execution_count": 13,
      "metadata": {
        "id": "Cnp334ZrOCjK"
      },
      "outputs": [
        {
          "name": "stdout",
          "output_type": "stream",
          "text": [
            "Victoria\n",
            "Del\n",
            "Josue\n",
            "Ignacio\n",
            "Gabriel\n",
            "Agustina\n",
            "Marcelo\n",
            "Santino\n",
            "Lucas\n"
          ]
        }
      ],
      "source": [
        "nombres_en_ambos = nombres_5c.intersection(nombres_5d)\n",
        "for nombre in nombres_en_ambos:\n",
        "    print(nombre)"
      ]
    },
    {
      "cell_type": "markdown",
      "metadata": {
        "id": "iAXts6saODoU"
      },
      "source": [
        "6. Mostrá los apellidos que se aparecen en ambos cursos"
      ]
    },
    {
      "cell_type": "code",
      "execution_count": 15,
      "metadata": {
        "id": "FMRsUlvtOJS_"
      },
      "outputs": [
        {
          "name": "stdout",
          "output_type": "stream",
          "text": [
            "Flores\n",
            "Martinez\n",
            "Guanca\n"
          ]
        }
      ],
      "source": [
        "apellidos_en_ambos = apellidos_5c.intersection(apellidos_5d)\n",
        "for apellidos in apellidos_en_ambos:\n",
        "    print(apellidos)"
      ]
    },
    {
      "cell_type": "markdown",
      "metadata": {
        "id": "T4PFiwwdOK27"
      },
      "source": [
        "7. Mostrá los nombres de los estudiantes de 5C que no existen en 5D y viceversa."
      ]
    },
    {
      "cell_type": "code",
      "execution_count": 18,
      "metadata": {
        "id": "vjQ2X9x3OmFr"
      },
      "outputs": [
        {
          "name": "stdout",
          "output_type": "stream",
          "text": [
            "Los nombres que estan en 5D y no en 5C son:\n",
            "Solange\n",
            "Tobias\n",
            "Francisco\n",
            "Fabricio\n",
            "Alvaro\n",
            "Hugo\n",
            "Morena\n",
            "Stefania\n",
            "Angélica\n",
            "Lizzie\n",
            "Emanuel\n",
            "Jazmin\n",
            "Maria\n",
            "Zacarias\n",
            "Belen\n",
            "Juliana\n",
            "Esmeralda\n",
            "Paulina\n",
            "Amaya\n",
            "Antonia\n",
            "Mariano\n",
            "Pedro\n",
            "Mahia\n",
            "Milagros\n",
            "Anita\n",
            "Agustin\n",
            "Milagro\n",
            "Tadeo\n",
            "Tomas\n",
            "Irina\n",
            "Ludmila\n",
            "Stefano\n",
            "Celia\n",
            "Camila\n",
            "Andres\n",
            "Nazarena\n",
            "\n",
            "\n",
            "\n",
            "\n",
            "\n",
            "\n",
            "Los nombres que estan en 5C y no en 5D son:\n",
            "Abril\n",
            "Yamila\n",
            "Mauricio\n",
            "Matias\n",
            "Martin\n",
            "Renato\n",
            "Rosario\n",
            "Dulce\n",
            "Leonardo\n",
            "Mia\n",
            "Nahuel\n",
            "Mariel\n",
            "Valle\n",
            "Tomasso\n",
            "Joaquin\n",
            "Nicolas\n",
            "Milena\n",
            "Constanza\n",
            "Agostina\n",
            "Lucia\n",
            "Katya\n",
            "Lautaro\n",
            "Luana\n",
            "Sara\n",
            "Ismael\n",
            "Agustín\n",
            "Martina\n",
            "Luna\n",
            "Octavio\n",
            "Zoe\n",
            "Maitena\n",
            "Lourdes\n",
            "Matías\n",
            "Ezequiel\n",
            "Salvador\n",
            "Tiara\n",
            "Valentino\n",
            "Magali\n",
            "Karim\n",
            "Ariana\n",
            "Alondra\n",
            "Vitto\n",
            "Elizabeth\n",
            "Micaela\n",
            "Antonella\n"
          ]
        }
      ],
      "source": [
        "print(\"Los nombres que estan en 5D y no en 5C son:\")\n",
        "nombres_5dyno5c = nombres_5d - nombres_5c\n",
        "for nombre in nombres_5dyno5c:\n",
        "    print(nombre)\n",
        "\n",
        "print(\"\\n\"*5)\n",
        "\n",
        "print(\"Los nombres que estan en 5C y no en 5D son:\")\n",
        "nombres_5cyno5d = nombres_5c.difference(nombres_5d)\n",
        "for nombre in nombres_5cyno5d:\n",
        "    print(nombre)\n",
        "\n"
      ]
    },
    {
      "cell_type": "markdown",
      "metadata": {
        "id": "xfy8SFlZRVGf"
      },
      "source": [
        "8. Mostrá los apellidos de los estudiantes de 5C que no existen en 5D y viceversa.\n"
      ]
    },
    {
      "cell_type": "code",
      "execution_count": null,
      "metadata": {
        "id": "E4Onk1FNRUa2"
      },
      "outputs": [],
      "source": [
        "pass"
      ]
    },
    {
      "cell_type": "markdown",
      "metadata": {
        "id": "lW18NgPjRcGP"
      },
      "source": [
        "9. Mostrá todos los nombres, menos aquellos que existen en ambos cursos.\n"
      ]
    },
    {
      "cell_type": "code",
      "execution_count": 19,
      "metadata": {
        "id": "jTtWBnalRcoC"
      },
      "outputs": [
        {
          "name": "stdout",
          "output_type": "stream",
          "text": [
            "Abril\n",
            "Martin\n",
            "Angélica\n",
            "Emanuel\n",
            "Belen\n",
            "Juliana\n",
            "Paulina\n",
            "Constanza\n",
            "Agostina\n",
            "Lucia\n",
            "Amaya\n",
            "Sara\n",
            "Martina\n",
            "Irina\n",
            "Karim\n",
            "Ariana\n",
            "Alondra\n",
            "Milagros\n",
            "Solange\n",
            "Leonardo\n",
            "Lizzie\n",
            "Jazmin\n",
            "Maria\n",
            "Joaquin\n",
            "Nicolas\n",
            "Milena\n",
            "Lautaro\n",
            "Mariano\n",
            "Ismael\n",
            "Agustín\n",
            "Agustin\n",
            "Octavio\n",
            "Tadeo\n",
            "Lourdes\n",
            "Salvador\n",
            "Ludmila\n",
            "Stefano\n",
            "Magali\n",
            "Andres\n",
            "Vitto\n",
            "Micaela\n",
            "Ezequiel\n",
            "Nazarena\n",
            "Yamila\n",
            "Mauricio\n",
            "Matias\n",
            "Tobias\n",
            "Francisco\n",
            "Alvaro\n",
            "Hugo\n",
            "Rosario\n",
            "Mia\n",
            "Mariel\n",
            "Tomasso\n",
            "Esmeralda\n",
            "Katya\n",
            "Pedro\n",
            "Mahia\n",
            "Luana\n",
            "Milagro\n",
            "Maitena\n",
            "Matías\n",
            "Valentino\n",
            "Celia\n",
            "Elizabeth\n",
            "Fabricio\n",
            "Renato\n",
            "Stefania\n",
            "Dulce\n",
            "Nahuel\n",
            "Valle\n",
            "Zacarias\n",
            "Antonia\n",
            "Anita\n",
            "Luna\n",
            "Zoe\n",
            "Tomas\n",
            "Tiara\n",
            "Camila\n",
            "Antonella\n",
            "Morena\n"
          ]
        }
      ],
      "source": [
        "todos_menos_interseccion = nombres_5c.symmetric_difference(nombres_5d)\n",
        "\n",
        "for nombre in todos_menos_interseccion:\n",
        "    print(nombre)"
      ]
    },
    {
      "cell_type": "markdown",
      "metadata": {},
      "source": []
    },
    {
      "cell_type": "code",
      "execution_count": null,
      "metadata": {},
      "outputs": [],
      "source": []
    },
    {
      "cell_type": "code",
      "execution_count": null,
      "metadata": {},
      "outputs": [],
      "source": [
        "todos_menos_en_ambos = nombres_5c.union(nombres_5d) - nombres_5d.intersection(nombres_5c)"
      ]
    },
    {
      "cell_type": "markdown",
      "metadata": {
        "id": "E24lH7x5Xbur"
      },
      "source": [
        "10. elimina tu nombre del conjunto al que pertenece"
      ]
    },
    {
      "cell_type": "code",
      "execution_count": 20,
      "metadata": {
        "id": "9SeI3GBGXims"
      },
      "outputs": [
        {
          "name": "stdout",
          "output_type": "stream",
          "text": [
            "Solange\n",
            "Tobias\n",
            "Francisco\n",
            "Fabricio\n",
            "Alvaro\n",
            "Hugo\n",
            "Morena\n",
            "Stefania\n",
            "Angélica\n",
            "Victoria\n",
            "Nazarena\n",
            "Lizzie\n",
            "Emanuel\n",
            "Jazmin\n",
            "Maria\n",
            "Josue\n",
            "Agustina\n",
            "Zacarias\n",
            "Belen\n",
            "Juliana\n",
            "Lucas\n",
            "Paulina\n",
            "Esmeralda\n",
            "Santino\n",
            "Amaya\n",
            "Antonia\n",
            "Mariano\n",
            "Pedro\n",
            "Mahia\n",
            "Agustin\n",
            "Milagro\n",
            "Del\n",
            "Tadeo\n",
            "Tomas\n",
            "Irina\n",
            "Ludmila\n",
            "Stefano\n",
            "Celia\n",
            "Gabriel\n",
            "Camila\n",
            "Andres\n",
            "Marcelo\n",
            "Ignacio\n",
            "Milagros\n"
          ]
        }
      ],
      "source": [
        "mi_nombre = \"Anita\"\n",
        "nombres_5d.discard(mi_nombre)\n",
        "\n",
        "for nombre in nombres_5d:\n",
        "    print(nombre)"
      ]
    },
    {
      "cell_type": "markdown",
      "metadata": {
        "id": "vOY6K_ydRc3Q"
      },
      "source": [
        "11. Solicita al usuario un nombre y un apellido y agregalos a los correspondientes conjuntos de tu curso.\n",
        "\n",
        "\n",
        "\n"
      ]
    },
    {
      "cell_type": "code",
      "execution_count": 22,
      "metadata": {
        "id": "9JDrd3WqRdTi"
      },
      "outputs": [],
      "source": [
        "nombres = input(\"Ingrese sus nombres: \").title().split()\n",
        "apellidos = input(\"Ingrese sus apellidos\").title().split()\n",
        "\n",
        "for nombre in nombres:\n",
        "    nombres_5d.add(nombre)\n",
        "\n",
        "for apellido in apellidos:\n",
        "    apellidos_5d.add(apellido)\n",
        "\n",
        "for nombre in nombres_5d:\n",
        "    print(nombre)\n",
        "\n",
        "for apellido in apellidos_5d;\n",
        "    print(apellido)"
      ]
    },
    {
      "cell_type": "markdown",
      "metadata": {
        "id": "hs1vGDrX2wHq"
      },
      "source": [
        "12. Solicita un nombre y verifica si este existe en el conjunto\n"
      ]
    },
    {
      "cell_type": "code",
      "execution_count": 24,
      "metadata": {
        "id": "4bbRCYWt2vDO"
      },
      "outputs": [
        {
          "name": "stdout",
          "output_type": "stream",
          "text": [
            "El nombre Paulina existe en el conjunto de nombres\n"
          ]
        }
      ],
      "source": [
        "nombre = input(\"Ingrese un nombre: \").title()\n",
        "if nombre in nombres_5d:\n",
        "    print(f\"El nombre {nombre} existe en el conjunto de nombres\")\n",
        "else:\n",
        "    print(f\"El nombre {nombre} no existe en el conjunto de nombres\")\n",
        "    "
      ]
    }
  ],
  "metadata": {
    "colab": {
      "authorship_tag": "ABX9TyNpAAI+GPBtmEYIuJM+T4jh",
      "include_colab_link": true,
      "provenance": []
    },
    "kernelspec": {
      "display_name": "Python 3",
      "name": "python3"
    },
    "language_info": {
      "codemirror_mode": {
        "name": "ipython",
        "version": 3
      },
      "file_extension": ".py",
      "mimetype": "text/x-python",
      "name": "python",
      "nbconvert_exporter": "python",
      "pygments_lexer": "ipython3",
      "version": "3.10.10"
    }
  },
  "nbformat": 4,
  "nbformat_minor": 0
}
